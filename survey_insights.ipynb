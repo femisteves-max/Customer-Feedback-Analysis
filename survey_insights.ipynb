{
 "cells": [
  {
   "cell_type": "markdown",
   "id": "5bea5e84",
   "metadata": {},
   "source": [
    "\n",
    "# 📝 Customer Satisfaction Survey Analysis\n",
    "\n",
    "This notebook analyzes customer survey data to uncover insights into satisfaction, product quality, and support ratings across different regions and age groups.\n"
   ]
  },
  {
   "cell_type": "code",
   "execution_count": null,
   "id": "f61df63a",
   "metadata": {},
   "outputs": [],
   "source": [
    "\n",
    "import pandas as pd\n",
    "import matplotlib.pyplot as plt\n",
    "import seaborn as sns\n",
    "\n",
    "# Setup\n",
    "sns.set(style=\"whitegrid\")\n"
   ]
  },
  {
   "cell_type": "code",
   "execution_count": null,
   "id": "5a62eb4e",
   "metadata": {},
   "outputs": [],
   "source": [
    "\n",
    "# Load the dataset\n",
    "df = pd.read_csv(\"../data/customer_survey.csv\")\n",
    "df.head()\n"
   ]
  },
  {
   "cell_type": "code",
   "execution_count": null,
   "id": "99b9c26f",
   "metadata": {},
   "outputs": [],
   "source": [
    "\n",
    "# Basic statistics\n",
    "df.describe()\n"
   ]
  },
  {
   "cell_type": "code",
   "execution_count": null,
   "id": "e6be20f2",
   "metadata": {},
   "outputs": [],
   "source": [
    "\n",
    "# Average satisfaction score by region\n",
    "region_group = df.groupby(\"Region\")[\"SatisfactionScore\"].mean().sort_values(ascending=False)\n",
    "region_group.plot(kind='bar', title=\"Average Satisfaction Score by Region\", ylabel=\"Satisfaction Score\", xlabel=\"Region\", figsize=(8,5))\n",
    "plt.tight_layout()\n",
    "plt.show()\n"
   ]
  },
  {
   "cell_type": "code",
   "execution_count": null,
   "id": "ea9d0018",
   "metadata": {},
   "outputs": [],
   "source": [
    "\n",
    "# Boxplot of satisfaction by age group\n",
    "plt.figure(figsize=(8,5))\n",
    "sns.boxplot(data=df, x=\"AgeGroup\", y=\"SatisfactionScore\", palette=\"pastel\")\n",
    "plt.title(\"Satisfaction Score by Age Group\")\n",
    "plt.xticks(rotation=45)\n",
    "plt.tight_layout()\n",
    "plt.show()\n"
   ]
  },
  {
   "cell_type": "code",
   "execution_count": null,
   "id": "1730f839",
   "metadata": {},
   "outputs": [],
   "source": [
    "\n",
    "# Correlation matrix between numerical scores\n",
    "sns.heatmap(df[[\"SatisfactionScore\", \"ProductQuality\", \"SupportRating\"]].corr(), annot=True, cmap=\"Blues\")\n",
    "plt.title(\"Correlation Between Survey Metrics\")\n",
    "plt.tight_layout()\n",
    "plt.show()\n"
   ]
  },
  {
   "cell_type": "markdown",
   "id": "c23674d2",
   "metadata": {},
   "source": [
    "\n",
    "## 📌 Key Findings\n",
    "\n",
    "- Regional differences in customer satisfaction can help prioritize operational improvements.\n",
    "- Correlation between product quality and satisfaction suggests quality is a key driver.\n",
    "- Age group insights may inform targeted communication or service strategies.\n",
    "\n",
    "---\n",
    "\n",
    "*Created by [Your Name]*\n"
   ]
  }
 ],
 "metadata": {},
 "nbformat": 4,
 "nbformat_minor": 5
}
